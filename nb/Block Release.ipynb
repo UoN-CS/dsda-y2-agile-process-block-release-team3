{
 "cells": [
  {
   "cell_type": "markdown",
   "id": "bf23d394-64a0-4189-8c56-70a778797a91",
   "metadata": {},
   "source": [
    "# Block Release\n",
    "\n",
    "This notebook contains the skeleton of the code to be used for the tasks."
   ]
  },
  {
   "cell_type": "markdown",
   "id": "dd126b81-5c5d-402f-be13-0849c5f0645f",
   "metadata": {},
   "source": [
    "## Imports"
   ]
  },
  {
   "cell_type": "code",
   "execution_count": null,
   "id": "b6d4f302-3243-4a85-8e86-45ffa3b66dcb",
   "metadata": {
    "tags": []
   },
   "outputs": [],
   "source": [
    "import pandas as pd\n",
    "import requests\n",
    "import json\n",
    "import seaborn as sns\n",
    "import matplotlib.pyplot as plt"
   ]
  },
  {
   "cell_type": "markdown",
   "id": "ef2764d3-9668-42c4-a0c7-18f2b849f1bb",
   "metadata": {
    "tags": []
   },
   "source": [
    "## Locations"
   ]
  },
  {
   "cell_type": "code",
   "execution_count": null,
   "id": "a0d51268-a911-4300-ba82-ddbfa96f9e36",
   "metadata": {
    "tags": []
   },
   "outputs": [],
   "source": [
    "# coordinates are latitude, longitude pairs\n",
    "LOCATION_UNIVERSITY_PARK = (52.93726647677705, -1.1959384006396074)\n",
    "LOCATION_JUBILEE_CAMPUS = (52.95232635429298, -1.1862643609249397)\n",
    "LOCATION_NOTTINGHAM_CITY_CENTRE = (52.953, -1.149)"
   ]
  },
  {
   "cell_type": "markdown",
   "id": "092caed0-a70a-4fbc-92c1-345bc2a33dc2",
   "metadata": {},
   "source": [
    "## API\n",
    "\n",
    "You will need to add more API URLs here as needed to complete the stories."
   ]
  },
  {
   "cell_type": "code",
   "execution_count": null,
   "id": "a1b208a0-88d8-48e6-bcdd-c2001d3dbdee",
   "metadata": {
    "tags": []
   },
   "outputs": [],
   "source": [
    "API_STREET_CRIME = \"https://data.police.uk/api/crimes-street/\"\n",
    "API_CRIME_CATEGORY = \"https://data.police.uk/api/crime-categories\"\n",
    "API_STREET_OUTCOME = \"https://data.police.uk/api/outcomes-at-location\""
   ]
  },
  {
   "cell_type": "markdown",
   "id": "e0aa343a-c9c9-41d5-80bc-17a71d639a6c",
   "metadata": {},
   "source": [
    "## Crimes Near University Park Campus\n",
    "\n",
    "Example function which calculates the number of crimes within 1 mile of University Park campus."
   ]
  },
  {
   "cell_type": "code",
   "execution_count": null,
   "id": "76e22400-1d34-4ac0-bf4f-51723ccf1c38",
   "metadata": {
    "tags": []
   },
   "outputs": [],
   "source": [
    "def count_crimes_within_1_mile(\n",
    "    lat: float, lon: float, year: int, month: int\n",
    ") -> int:\n",
    "    \"\"\"Calculate number of crimes within 1 mile of a location for a date.\n",
    "\n",
    "    Args:\n",
    "        lat (float): Latitude of the location.\n",
    "        lon (float): Longitude of the location.\n",
    "        year (int): Year to find crimes.\n",
    "        month (int): Month of the provided year to find crimes.\n",
    "\n",
    "    Returns:\n",
    "        int: Count of the crimes\n",
    "    \"\"\"\n",
    "    url = (\n",
    "        API_STREET_CRIME + f\"all-crime?lat={lat}&lng={lon}&date={year}-{month}\"\n",
    "    )\n",
    "    response = requests.get(url)\n",
    "    if response.status_code == 200:\n",
    "        return len(response.json())\n",
    "    else:\n",
    "        print(f\"Error retrieving data: {response.status_code}\")\n",
    "\n",
    "\n",
    "print(count_crimes_within_1_mile(*LOCATION_UNIVERSITY_PARK, 2023, 1))"
   ]
  },
  {
   "cell_type": "markdown",
   "id": "1d0ec770",
   "metadata": {},
   "source": [
    "## Crimes Categories\n",
    "\n",
    "Example function which displays all URLs for each crime category"
   ]
  },
  {
   "cell_type": "code",
   "execution_count": null,
   "id": "1817e2c0",
   "metadata": {},
   "outputs": [],
   "source": [
    "url = (API_CRIME_CATEGORY)\n",
    "response = requests.get(url)\n",
    "if response.status_code == 200:\n",
    "    print(response.json())\n",
    "else:\n",
    "    print(f\"Error retrieving data: {response.status_code}\")"
   ]
  },
  {
   "cell_type": "markdown",
   "id": "cc0db268",
   "metadata": {},
   "source": [
    "## Story 01 - Bike Thefts Near University Park Campus\n",
    "\n",
    "Example function which calculates the number of bike thefts within 1 mile of University Park campus."
   ]
  },
  {
   "cell_type": "code",
   "execution_count": null,
   "id": "214b6550",
   "metadata": {},
   "outputs": [],
   "source": [
    "def count_biketheft_within_1_mile(\n",
    "    lat: float, lon: float, year: int, month: int\n",
    ") -> int:\n",
    "    \"\"\"Calculate number of bicycle thefts within 1 mile of a location for a date.\n",
    "\n",
    "    Args:\n",
    "        lat (float): Latitude of the location.\n",
    "        lon (float): Longitude of the location.\n",
    "        year (int): Year to find crimes.\n",
    "        month (int): Month of the provided year to find crimes.\n",
    "\n",
    "    Returns:\n",
    "        int: Count of the crimes\n",
    "    \"\"\"\n",
    "    url = (\n",
    "        API_STREET_CRIME + f\"bicycle-theft?lat={lat}&lng={lon}&date={year}-{month}\"\n",
    "    )\n",
    "    response = requests.get(url)\n",
    "    if response.status_code == 200:\n",
    "        return len(response.json())\n",
    "    else:\n",
    "        print(f\"Error retrieving data: {response.status_code}\")\n",
    "\n",
    "\n",
    "print(count_biketheft_within_1_mile(*LOCATION_UNIVERSITY_PARK, 2023, 1))"
   ]
  },
  {
   "cell_type": "markdown",
   "id": "72c30ac3",
   "metadata": {},
   "source": [
    "## Story 04 - Violent Crime outcomes\n",
    "\n",
    "Example function which calculates the number of bike thefts within 1 mile of University Park campus."
   ]
  },
  {
   "cell_type": "code",
   "execution_count": null,
   "id": "e2824c24",
   "metadata": {},
   "outputs": [],
   "source": [
    "def crime_outcome_within_1_mile(\n",
    "    lat: float, lon: float, year: int, month: int\n",
    ") -> int:\n",
    "    \"\"\"Calculate number of bicycle thefts within 1 mile of a location for a date.\n",
    "\n",
    "    Args:\n",
    "        lat (float): Latitude of the location.\n",
    "        lon (float): Longitude of the location.\n",
    "        year (int): Year to find crimes.\n",
    "        month (int): Month of the provided year to find crimes.\n",
    "\n",
    "    Returns:\n",
    "        int: Count of the crimes\n",
    "    \"\"\"\n",
    "    url = (\n",
    "        API_STREET_OUTCOME + f\"?date={year}-{month}&lat={lat}&lng={lon}\"\n",
    "    )\n",
    "    response = requests.get(url)\n",
    "    if response.status_code == 200:\n",
    "        return response.json()\n",
    "    else:\n",
    "        print(f\"Error retrieving data: {response.status_code}\")\n",
    "\n",
    "\n",
    "\n",
    "years=[2022,2021,2020]\n",
    "locations=[LOCATION_UNIVERSITY_PARK,LOCATION_JUBILEE_CAMPUS,LOCATION_NOTTINGHAM_CITY_CENTRE]\n",
    "crime=[]\n",
    "outcome=[]\n",
    "date=[]\n",
    "loca=[]\n",
    "\n",
    "for location in locations:\n",
    "    print(location)\n",
    "    for year in years:\n",
    "        print(year)\n",
    "        json_all=crime_outcome_within_1_mile(*location,year,12)\n",
    "        for i in range(len(json_all)):\n",
    "                if json_all[i]['crime']['category']=='violent-crime':\n",
    "                    date.append(year)\n",
    "                    crime.append(json_all[i]['crime']['category'])\n",
    "                    outcome.append(json_all[i]['category']['name'])\n",
    "                    loca.append(location)\n",
    "    \n",
    "\n",
    "\n",
    "\n",
    "violent_crimes = pd.DataFrame({'date' : date, 'location' : loca, 'crime' : crime, 'outcome' : outcome })"
   ]
  },
  {
   "cell_type": "code",
   "execution_count": null,
   "id": "9d505487",
   "metadata": {},
   "outputs": [],
   "source": [
    "violent_crimes"
   ]
  },
  {
   "cell_type": "code",
   "execution_count": null,
   "id": "530356a9",
   "metadata": {},
   "outputs": [],
   "source": [
    "agg_df = violent_crimes.groupby(['date', 'outcome', 'location']).size().reset_index(name='count')"
   ]
  },
  {
   "cell_type": "code",
   "execution_count": null,
   "id": "9da8f413",
   "metadata": {},
   "outputs": [],
   "source": [
    "agg_df"
   ]
  },
  {
   "cell_type": "code",
   "execution_count": null,
   "id": "39344a39",
   "metadata": {},
   "outputs": [],
   "source": [
    "for i in range(len(agg_df['location'])):\n",
    "    if agg_df.location[i]=='(52.93726647677705, -1.1959384006396074)':\n",
    "        agg_df.location[i]=='UNIVERSITY_PARK'\n",
    "    if agg_df.location[i]=='(52.95232635429298, -1.1862643609249397)':\n",
    "        agg_df.location[i]=='JUBILEE_CAMPUS'\n",
    "    if agg_df.location[i]=='(52.953, -1.149)':\n",
    "        agg_df.location[i]=='NOTTINGHAM_CITY_CENTRE'\n",
    "        \n",
    "        "
   ]
  },
  {
   "cell_type": "code",
   "execution_count": null,
   "id": "ecb29690",
   "metadata": {},
   "outputs": [],
   "source": [
    "agg_df"
   ]
  },
  {
   "cell_type": "code",
   "execution_count": null,
   "id": "0b5719d5",
   "metadata": {},
   "outputs": [],
   "source": [
    "agg_df.location[1]"
   ]
  },
  {
   "cell_type": "code",
   "execution_count": null,
   "id": "e8e5de29",
   "metadata": {},
   "outputs": [],
   "source": [
    "g = sns.catplot(\n",
    "    data=agg_df, kind=\"bar\",\n",
    "    x=\"date\", y=\"count\", hue=\"outcome\",\n",
    "    palette=\"dark\", alpha=.6, height=6\n",
    ")\n",
    "g.despine(left=True)\n",
    "g.set_axis_labels(\"\", \"Count\")\n",
    "g.legend.set_title(\"\")\n",
    "plt.show()"
   ]
  },
  {
   "cell_type": "code",
   "execution_count": null,
   "id": "f3b4b335",
   "metadata": {},
   "outputs": [],
   "source": []
  }
 ],
 "metadata": {
  "kernelspec": {
   "display_name": "agile_kernel",
   "language": "python",
   "name": "agile_kernel"
  },
  "language_info": {
   "codemirror_mode": {
    "name": "ipython",
    "version": 3
   },
   "file_extension": ".py",
   "mimetype": "text/x-python",
   "name": "python",
   "nbconvert_exporter": "python",
   "pygments_lexer": "ipython3",
   "version": "3.8.13"
  }
 },
 "nbformat": 4,
 "nbformat_minor": 5
}
